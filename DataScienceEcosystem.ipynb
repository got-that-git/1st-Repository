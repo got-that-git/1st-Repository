{
 "cells": [
  {
   "cell_type": "markdown",
   "id": "b001ffee-449b-411b-aec4-da5b0f2e65f0",
   "metadata": {},
   "source": [
    "# Data Science Tools and Ecosystem"
   ]
  },
  {
   "cell_type": "markdown",
   "id": "461d6acd-fcd6-438d-9269-639ff175f923",
   "metadata": {},
   "source": [
    "This notebook will summarize data science tools and ecosystem."
   ]
  },
  {
   "cell_type": "markdown",
   "id": "33af652f-77a2-43f3-81a3-9c4281941f4c",
   "metadata": {},
   "source": [
    "**Objectives:**\n",
    "<ul>\n",
    "<li>List popular data science languages</li>\n",
    "<li>List popular data science libraries</li>\n",
    "<li>List popular data science tools</li>\n",
    "<li>Evaluate arithmetic expressions in Python</li>\n",
    "</ul>\n"
   ]
  },
  {
   "cell_type": "markdown",
   "id": "11863610-4529-4d7c-bd54-186951087042",
   "metadata": {},
   "source": [
    "Some popular data science languages:<ol>\n",
    "<li>Python</li>\n",
    "<li>R</li>\n",
    "<li>SQL</li>\n",
    "</ol>"
   ]
  },
  {
   "cell_type": "markdown",
   "id": "54909f94-26fc-4abd-ad85-5603730df8ae",
   "metadata": {},
   "source": [
    "Some popular data science libraries:<ol>\n",
    "<li>NumPy</li>\n",
    "<li>Matplotlib</li>\n",
    "<li>Keras</li>\n",
    "</ol>"
   ]
  },
  {
   "cell_type": "markdown",
   "id": "4872457f-5389-4d4a-bd35-b47fbe2fdb75",
   "metadata": {},
   "source": [
    "\n",
    "| Data Science Tools |\n",
    "| ------------------ |\n",
    "| Jupyter Notebook   |\n",
    "| RStudio            |\n",
    "| Spyder             |\n"
   ]
  },
  {
   "cell_type": "markdown",
   "id": "400b65ba-92e8-4ca8-93cd-6af37400d22b",
   "metadata": {},
   "source": [
    "### Below are some cells that evaluate arithmetic expressions in Python."
   ]
  },
  {
   "cell_type": "code",
   "execution_count": null,
   "id": "7ded54b6-faea-4b77-bcfa-fbb39d9edbbf",
   "metadata": {
    "tags": []
   },
   "outputs": [],
   "source": [
    "# The following expression multiplies and adds some integers.\n",
    "(3*4)+5"
   ]
  },
  {
   "cell_type": "code",
   "execution_count": null,
   "id": "39b5258c-33ef-4142-a493-441c61817d5e",
   "metadata": {},
   "outputs": [],
   "source": [
    "# The following expression converts 200 minutes to hours.\n",
    "200/60"
   ]
  },
  {
   "cell_type": "markdown",
   "id": "75df9b94-8630-4b05-8c83-cd7d0d6f4ae7",
   "metadata": {},
   "source": [
    "## Author\n",
    "Daniel Meir"
   ]
  }
 ],
 "metadata": {
  "kernelspec": {
   "display_name": "Python",
   "language": "python",
   "name": "conda-env-python-py"
  },
  "language_info": {
   "codemirror_mode": {
    "name": "ipython",
    "version": 3
   },
   "file_extension": ".py",
   "mimetype": "text/x-python",
   "name": "python",
   "nbconvert_exporter": "python",
   "pygments_lexer": "ipython3",
   "version": "3.7.12"
  }
 },
 "nbformat": 4,
 "nbformat_minor": 5
}
